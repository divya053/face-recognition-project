{
 "cells": [
  {
   "cell_type": "code",
   "execution_count": 14,
   "id": "e73f570f",
   "metadata": {},
   "outputs": [
    {
     "name": "stdout",
     "output_type": "stream",
     "text": [
      "Requirement already satisfied: opencv-python in c:\\users\\dell\\documents\\facerecog\\myvenvpy\\lib\\site-packages (4.5.2.52)\n",
      "Requirement already satisfied: numpy>=1.19.3 in c:\\users\\dell\\documents\\facerecog\\myvenvpy\\lib\\site-packages\\numpy-1.21.0rc1-py3.9-win-amd64.egg (from opencv-python) (1.21.0rc1)\n"
     ]
    }
   ],
   "source": [
    "!pip install opencv-python"
   ]
  },
  {
   "cell_type": "code",
   "execution_count": 8,
   "id": "08d80341",
   "metadata": {},
   "outputs": [],
   "source": [
    "def faceDetection(test_img):\n",
    "    gray_img = cv2.cvtColor(test_img,cv2.COLOR_BGR2GRAY) \n",
    "    face_haar_cascade = cv2.CascadeClassifier('C:/Users/DELL/OneDrive/Desktop/haarcascades/haarcascade_frontalface_default.xml')\n",
    "    faces = face_haar_cascade.detectMultiScale(gray_img,scaleFactor=1.32,minNeighbors=5)\n",
    "\n",
    "    return faces,gray_img\n",
    "\n",
    "\n",
    "def labels_for_training(directory):\n",
    "    faces = []\n",
    "    faceID = []\n",
    "\n",
    "    for path,subdirname,filenames in os.walk(directory):\n",
    "        for filename in filenames:\n",
    "            if filename.startswith(\".\"):\n",
    "                print(\"Skippping system file\")\n",
    "                continue\n",
    "            id = os.path.basename(path)\n",
    "            img_path = os.path.join(path,filename)\n",
    "            print('img_path: ',img_path)\n",
    "            print(\"id\",id)\n",
    "            test_img = cv2.imread(img_path)\n",
    "            if test_img is None:\n",
    "                print(\"Image not loaded properly\")\n",
    "                continue\n",
    "            faces_rect,gray_img = faceDetection(test_img)\n",
    "            if len(faces_rect)!=1:\n",
    "                continue\n",
    "            (x,y,w,h) = faces_rect[0]\n",
    "            roi_gray = gray_img[y:y+w,x:x+h]\n",
    "            faces.append(roi_gray)\n",
    "            faceID.append(int(id))\n",
    "    return faces,faceID\n",
    "\n",
    "def train_classifier(faces,faceID):\n",
    "    face_recognizer = cv2.face.LBPHFaceRecognizer_create()\n",
    "    face_recognizer.train(faces,np.array(faceID))\n",
    "    return face_recognizer\n",
    "\n",
    "def draw_rect(test_img,face):\n",
    "    (x,y,w,h) = face\n",
    "    cv2.rectangle(test_img,(x,y),(x+w,y+h),(255,0,0),thickness=4)\n",
    "\n",
    "\n",
    "def put_text(test_img,text,x,y):\n",
    "    cv2.putText(test_img,text,(x,y),cv2.FONT_HERSHEY_DUPLEX,2,(255,0,0),4)                    \n"
   ]
  },
  {
   "cell_type": "code",
   "execution_count": null,
   "id": "348b3543",
   "metadata": {},
   "outputs": [],
   "source": []
  }
 ],
 "metadata": {
  "kernelspec": {
   "display_name": "Python 3",
   "language": "python",
   "name": "python3"
  },
  "language_info": {
   "codemirror_mode": {
    "name": "ipython",
    "version": 3
   },
   "file_extension": ".py",
   "mimetype": "text/x-python",
   "name": "python",
   "nbconvert_exporter": "python",
   "pygments_lexer": "ipython3",
   "version": "3.8.5"
  }
 },
 "nbformat": 4,
 "nbformat_minor": 5
}
